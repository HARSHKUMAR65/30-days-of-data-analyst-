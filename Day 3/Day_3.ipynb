{
  "nbformat": 4,
  "nbformat_minor": 0,
  "metadata": {
    "colab": {
      "provenance": []
    },
    "kernelspec": {
      "name": "python3",
      "display_name": "Python 3"
    },
    "language_info": {
      "name": "python"
    }
  },
  "cells": [
    {
      "cell_type": "markdown",
      "source": [
        "Today we have electronic data from amazon \n",
        "---\n",
        "It contain user rating for various electronic item solg along with category with each item and time of sell.\n",
        "---\n",
        "## The data is avalable at kaggle "
      ],
      "metadata": {
        "id": "NrbnRQVjjTn5"
      }
    },
    {
      "cell_type": "code",
      "execution_count": 36,
      "metadata": {
        "colab": {
          "base_uri": "https://localhost:8080/",
          "height": 206
        },
        "id": "H_zaHAhJiuO_",
        "outputId": "67c20a2f-28e4-49c3-c0bb-83bbc905d637"
      },
      "outputs": [
        {
          "output_type": "execute_result",
          "data": {
            "text/plain": [
              "   item_id  user_id  rating   timestamp model_attr                category  \\\n",
              "0        0        0     5.0  1999-06-13     Female  Portable Audio & Video   \n",
              "1        0        1     5.0  1999-06-14     Female  Portable Audio & Video   \n",
              "2        0        2     3.0  1999-06-17     Female  Portable Audio & Video   \n",
              "3        0        3     1.0  1999-07-01     Female  Portable Audio & Video   \n",
              "4        0        4     2.0  1999-07-06     Female  Portable Audio & Video   \n",
              "\n",
              "  brand  year user_attr  split  month  \n",
              "0   NaN  1999       NaN      0      6  \n",
              "1   NaN  1999       NaN      0      6  \n",
              "2   NaN  1999       NaN      0      6  \n",
              "3   NaN  1999       NaN      0      7  \n",
              "4   NaN  1999       NaN      0      7  "
            ],
            "text/html": [
              "\n",
              "  <div id=\"df-f84bfd96-65f8-4f9f-892c-d10727c35762\">\n",
              "    <div class=\"colab-df-container\">\n",
              "      <div>\n",
              "<style scoped>\n",
              "    .dataframe tbody tr th:only-of-type {\n",
              "        vertical-align: middle;\n",
              "    }\n",
              "\n",
              "    .dataframe tbody tr th {\n",
              "        vertical-align: top;\n",
              "    }\n",
              "\n",
              "    .dataframe thead th {\n",
              "        text-align: right;\n",
              "    }\n",
              "</style>\n",
              "<table border=\"1\" class=\"dataframe\">\n",
              "  <thead>\n",
              "    <tr style=\"text-align: right;\">\n",
              "      <th></th>\n",
              "      <th>item_id</th>\n",
              "      <th>user_id</th>\n",
              "      <th>rating</th>\n",
              "      <th>timestamp</th>\n",
              "      <th>model_attr</th>\n",
              "      <th>category</th>\n",
              "      <th>brand</th>\n",
              "      <th>year</th>\n",
              "      <th>user_attr</th>\n",
              "      <th>split</th>\n",
              "      <th>month</th>\n",
              "    </tr>\n",
              "  </thead>\n",
              "  <tbody>\n",
              "    <tr>\n",
              "      <th>0</th>\n",
              "      <td>0</td>\n",
              "      <td>0</td>\n",
              "      <td>5.0</td>\n",
              "      <td>1999-06-13</td>\n",
              "      <td>Female</td>\n",
              "      <td>Portable Audio &amp; Video</td>\n",
              "      <td>NaN</td>\n",
              "      <td>1999</td>\n",
              "      <td>NaN</td>\n",
              "      <td>0</td>\n",
              "      <td>6</td>\n",
              "    </tr>\n",
              "    <tr>\n",
              "      <th>1</th>\n",
              "      <td>0</td>\n",
              "      <td>1</td>\n",
              "      <td>5.0</td>\n",
              "      <td>1999-06-14</td>\n",
              "      <td>Female</td>\n",
              "      <td>Portable Audio &amp; Video</td>\n",
              "      <td>NaN</td>\n",
              "      <td>1999</td>\n",
              "      <td>NaN</td>\n",
              "      <td>0</td>\n",
              "      <td>6</td>\n",
              "    </tr>\n",
              "    <tr>\n",
              "      <th>2</th>\n",
              "      <td>0</td>\n",
              "      <td>2</td>\n",
              "      <td>3.0</td>\n",
              "      <td>1999-06-17</td>\n",
              "      <td>Female</td>\n",
              "      <td>Portable Audio &amp; Video</td>\n",
              "      <td>NaN</td>\n",
              "      <td>1999</td>\n",
              "      <td>NaN</td>\n",
              "      <td>0</td>\n",
              "      <td>6</td>\n",
              "    </tr>\n",
              "    <tr>\n",
              "      <th>3</th>\n",
              "      <td>0</td>\n",
              "      <td>3</td>\n",
              "      <td>1.0</td>\n",
              "      <td>1999-07-01</td>\n",
              "      <td>Female</td>\n",
              "      <td>Portable Audio &amp; Video</td>\n",
              "      <td>NaN</td>\n",
              "      <td>1999</td>\n",
              "      <td>NaN</td>\n",
              "      <td>0</td>\n",
              "      <td>7</td>\n",
              "    </tr>\n",
              "    <tr>\n",
              "      <th>4</th>\n",
              "      <td>0</td>\n",
              "      <td>4</td>\n",
              "      <td>2.0</td>\n",
              "      <td>1999-07-06</td>\n",
              "      <td>Female</td>\n",
              "      <td>Portable Audio &amp; Video</td>\n",
              "      <td>NaN</td>\n",
              "      <td>1999</td>\n",
              "      <td>NaN</td>\n",
              "      <td>0</td>\n",
              "      <td>7</td>\n",
              "    </tr>\n",
              "  </tbody>\n",
              "</table>\n",
              "</div>\n",
              "      <button class=\"colab-df-convert\" onclick=\"convertToInteractive('df-f84bfd96-65f8-4f9f-892c-d10727c35762')\"\n",
              "              title=\"Convert this dataframe to an interactive table.\"\n",
              "              style=\"display:none;\">\n",
              "        \n",
              "  <svg xmlns=\"http://www.w3.org/2000/svg\" height=\"24px\"viewBox=\"0 0 24 24\"\n",
              "       width=\"24px\">\n",
              "    <path d=\"M0 0h24v24H0V0z\" fill=\"none\"/>\n",
              "    <path d=\"M18.56 5.44l.94 2.06.94-2.06 2.06-.94-2.06-.94-.94-2.06-.94 2.06-2.06.94zm-11 1L8.5 8.5l.94-2.06 2.06-.94-2.06-.94L8.5 2.5l-.94 2.06-2.06.94zm10 10l.94 2.06.94-2.06 2.06-.94-2.06-.94-.94-2.06-.94 2.06-2.06.94z\"/><path d=\"M17.41 7.96l-1.37-1.37c-.4-.4-.92-.59-1.43-.59-.52 0-1.04.2-1.43.59L10.3 9.45l-7.72 7.72c-.78.78-.78 2.05 0 2.83L4 21.41c.39.39.9.59 1.41.59.51 0 1.02-.2 1.41-.59l7.78-7.78 2.81-2.81c.8-.78.8-2.07 0-2.86zM5.41 20L4 18.59l7.72-7.72 1.47 1.35L5.41 20z\"/>\n",
              "  </svg>\n",
              "      </button>\n",
              "      \n",
              "  <style>\n",
              "    .colab-df-container {\n",
              "      display:flex;\n",
              "      flex-wrap:wrap;\n",
              "      gap: 12px;\n",
              "    }\n",
              "\n",
              "    .colab-df-convert {\n",
              "      background-color: #E8F0FE;\n",
              "      border: none;\n",
              "      border-radius: 50%;\n",
              "      cursor: pointer;\n",
              "      display: none;\n",
              "      fill: #1967D2;\n",
              "      height: 32px;\n",
              "      padding: 0 0 0 0;\n",
              "      width: 32px;\n",
              "    }\n",
              "\n",
              "    .colab-df-convert:hover {\n",
              "      background-color: #E2EBFA;\n",
              "      box-shadow: 0px 1px 2px rgba(60, 64, 67, 0.3), 0px 1px 3px 1px rgba(60, 64, 67, 0.15);\n",
              "      fill: #174EA6;\n",
              "    }\n",
              "\n",
              "    [theme=dark] .colab-df-convert {\n",
              "      background-color: #3B4455;\n",
              "      fill: #D2E3FC;\n",
              "    }\n",
              "\n",
              "    [theme=dark] .colab-df-convert:hover {\n",
              "      background-color: #434B5C;\n",
              "      box-shadow: 0px 1px 3px 1px rgba(0, 0, 0, 0.15);\n",
              "      filter: drop-shadow(0px 1px 2px rgba(0, 0, 0, 0.3));\n",
              "      fill: #FFFFFF;\n",
              "    }\n",
              "  </style>\n",
              "\n",
              "      <script>\n",
              "        const buttonEl =\n",
              "          document.querySelector('#df-f84bfd96-65f8-4f9f-892c-d10727c35762 button.colab-df-convert');\n",
              "        buttonEl.style.display =\n",
              "          google.colab.kernel.accessAllowed ? 'block' : 'none';\n",
              "\n",
              "        async function convertToInteractive(key) {\n",
              "          const element = document.querySelector('#df-f84bfd96-65f8-4f9f-892c-d10727c35762');\n",
              "          const dataTable =\n",
              "            await google.colab.kernel.invokeFunction('convertToInteractive',\n",
              "                                                     [key], {});\n",
              "          if (!dataTable) return;\n",
              "\n",
              "          const docLinkHtml = 'Like what you see? Visit the ' +\n",
              "            '<a target=\"_blank\" href=https://colab.research.google.com/notebooks/data_table.ipynb>data table notebook</a>'\n",
              "            + ' to learn more about interactive tables.';\n",
              "          element.innerHTML = '';\n",
              "          dataTable['output_type'] = 'display_data';\n",
              "          await google.colab.output.renderOutput(dataTable, element);\n",
              "          const docLink = document.createElement('div');\n",
              "          docLink.innerHTML = docLinkHtml;\n",
              "          element.appendChild(docLink);\n",
              "        }\n",
              "      </script>\n",
              "    </div>\n",
              "  </div>\n",
              "  "
            ]
          },
          "metadata": {},
          "execution_count": 36
        }
      ],
      "source": [
        "#importing the libraries \n",
        "import numpy as np \n",
        "import pandas as pd\n",
        "import matplotlib.pyplot as plt\n",
        "import seaborn as sns \n",
        "\n",
        "\n",
        "#import the data  \n",
        "data=pd.read_csv(\"/content/electronics_cleaned.csv\")\n",
        "\n",
        "\n",
        "#first five column of data \n",
        "data.head()"
      ]
    },
    {
      "cell_type": "code",
      "source": [
        "#shape \n",
        "data.shape"
      ],
      "metadata": {
        "colab": {
          "base_uri": "https://localhost:8080/"
        },
        "id": "Mtr1rSHGjJCJ",
        "outputId": "7d444dc3-dfc9-4016-8830-ea1279b8d89a"
      },
      "execution_count": 37,
      "outputs": [
        {
          "output_type": "execute_result",
          "data": {
            "text/plain": [
              "(1292954, 11)"
            ]
          },
          "metadata": {},
          "execution_count": 37
        }
      ]
    },
    {
      "cell_type": "code",
      "source": [
        "## let cheak the data type of  all columns and along with finding wheather they contain null value or not \n",
        "data.info() "
      ],
      "metadata": {
        "colab": {
          "base_uri": "https://localhost:8080/"
        },
        "id": "MtvPG49Wmbs0",
        "outputId": "f8a240c5-c026-4f66-a1b4-fc17e360c31b"
      },
      "execution_count": 38,
      "outputs": [
        {
          "output_type": "stream",
          "name": "stdout",
          "text": [
            "<class 'pandas.core.frame.DataFrame'>\n",
            "RangeIndex: 1292954 entries, 0 to 1292953\n",
            "Data columns (total 11 columns):\n",
            " #   Column      Non-Null Count    Dtype  \n",
            "---  ------      --------------    -----  \n",
            " 0   item_id     1292954 non-null  int64  \n",
            " 1   user_id     1292954 non-null  int64  \n",
            " 2   rating      1292954 non-null  float64\n",
            " 3   timestamp   1292954 non-null  object \n",
            " 4   model_attr  1292954 non-null  object \n",
            " 5   category    1292954 non-null  object \n",
            " 6   brand       331120 non-null   object \n",
            " 7   year        1292954 non-null  int64  \n",
            " 8   user_attr   174124 non-null   object \n",
            " 9   split       1292954 non-null  int64  \n",
            " 10  month       1292954 non-null  int64  \n",
            "dtypes: float64(1), int64(5), object(5)\n",
            "memory usage: 108.5+ MB\n"
          ]
        }
      ]
    },
    {
      "cell_type": "code",
      "source": [
        "##we see that columne brand ,category , user id , item id has object data type but it is string so we change it into string\n",
        "data['brand']=data['brand'].astype(str)\n",
        "\n",
        "data['item_id']=data['item_id'].astype(str)\n",
        "\n",
        "data['user_id']=data['user_id'].astype(str)\n",
        "\n",
        "data['category']=data['category'].astype(str)\n",
        "\n",
        "## now we  see that column rating has int69 data type but its actually float  so we change it to as float \n",
        "data['rating']=data['rating'].astype(float)\n",
        "\n",
        "\n",
        "##now we see that column timestamp is obect but it actually timestamp so we convert it into timestamp \n",
        "from datetime import datetime\n",
        "data['timestamp']=pd.to_datetime(data['timestamp'])"
      ],
      "metadata": {
        "id": "UhWDZDoHnS7j"
      },
      "execution_count": 39,
      "outputs": []
    },
    {
      "cell_type": "code",
      "source": [
        "#for better understand of data\n",
        "data.describe()"
      ],
      "metadata": {
        "colab": {
          "base_uri": "https://localhost:8080/",
          "height": 300
        },
        "id": "Pkmuq3UKsg3F",
        "outputId": "60915179-c716-44ea-e8a8-bf5f9e1c1baa"
      },
      "execution_count": 40,
      "outputs": [
        {
          "output_type": "execute_result",
          "data": {
            "text/plain": [
              "             rating          year         split         month\n",
              "count  1.292954e+06  1.292954e+06  1.292954e+06  1.292954e+06\n",
              "mean   4.051482e+00  2.014977e+03  1.747587e-01  6.340661e+00\n",
              "std    1.379732e+00  2.117867e+00  5.506810e-01  3.576262e+00\n",
              "min    1.000000e+00  1.999000e+03  0.000000e+00  1.000000e+00\n",
              "25%    4.000000e+00  2.014000e+03  0.000000e+00  3.000000e+00\n",
              "50%    5.000000e+00  2.015000e+03  0.000000e+00  6.000000e+00\n",
              "75%    5.000000e+00  2.016000e+03  0.000000e+00  9.000000e+00\n",
              "max    5.000000e+00  2.018000e+03  2.000000e+00  1.200000e+01"
            ],
            "text/html": [
              "\n",
              "  <div id=\"df-741d059c-de12-49cd-b955-3d696b6fea52\">\n",
              "    <div class=\"colab-df-container\">\n",
              "      <div>\n",
              "<style scoped>\n",
              "    .dataframe tbody tr th:only-of-type {\n",
              "        vertical-align: middle;\n",
              "    }\n",
              "\n",
              "    .dataframe tbody tr th {\n",
              "        vertical-align: top;\n",
              "    }\n",
              "\n",
              "    .dataframe thead th {\n",
              "        text-align: right;\n",
              "    }\n",
              "</style>\n",
              "<table border=\"1\" class=\"dataframe\">\n",
              "  <thead>\n",
              "    <tr style=\"text-align: right;\">\n",
              "      <th></th>\n",
              "      <th>rating</th>\n",
              "      <th>year</th>\n",
              "      <th>split</th>\n",
              "      <th>month</th>\n",
              "    </tr>\n",
              "  </thead>\n",
              "  <tbody>\n",
              "    <tr>\n",
              "      <th>count</th>\n",
              "      <td>1.292954e+06</td>\n",
              "      <td>1.292954e+06</td>\n",
              "      <td>1.292954e+06</td>\n",
              "      <td>1.292954e+06</td>\n",
              "    </tr>\n",
              "    <tr>\n",
              "      <th>mean</th>\n",
              "      <td>4.051482e+00</td>\n",
              "      <td>2.014977e+03</td>\n",
              "      <td>1.747587e-01</td>\n",
              "      <td>6.340661e+00</td>\n",
              "    </tr>\n",
              "    <tr>\n",
              "      <th>std</th>\n",
              "      <td>1.379732e+00</td>\n",
              "      <td>2.117867e+00</td>\n",
              "      <td>5.506810e-01</td>\n",
              "      <td>3.576262e+00</td>\n",
              "    </tr>\n",
              "    <tr>\n",
              "      <th>min</th>\n",
              "      <td>1.000000e+00</td>\n",
              "      <td>1.999000e+03</td>\n",
              "      <td>0.000000e+00</td>\n",
              "      <td>1.000000e+00</td>\n",
              "    </tr>\n",
              "    <tr>\n",
              "      <th>25%</th>\n",
              "      <td>4.000000e+00</td>\n",
              "      <td>2.014000e+03</td>\n",
              "      <td>0.000000e+00</td>\n",
              "      <td>3.000000e+00</td>\n",
              "    </tr>\n",
              "    <tr>\n",
              "      <th>50%</th>\n",
              "      <td>5.000000e+00</td>\n",
              "      <td>2.015000e+03</td>\n",
              "      <td>0.000000e+00</td>\n",
              "      <td>6.000000e+00</td>\n",
              "    </tr>\n",
              "    <tr>\n",
              "      <th>75%</th>\n",
              "      <td>5.000000e+00</td>\n",
              "      <td>2.016000e+03</td>\n",
              "      <td>0.000000e+00</td>\n",
              "      <td>9.000000e+00</td>\n",
              "    </tr>\n",
              "    <tr>\n",
              "      <th>max</th>\n",
              "      <td>5.000000e+00</td>\n",
              "      <td>2.018000e+03</td>\n",
              "      <td>2.000000e+00</td>\n",
              "      <td>1.200000e+01</td>\n",
              "    </tr>\n",
              "  </tbody>\n",
              "</table>\n",
              "</div>\n",
              "      <button class=\"colab-df-convert\" onclick=\"convertToInteractive('df-741d059c-de12-49cd-b955-3d696b6fea52')\"\n",
              "              title=\"Convert this dataframe to an interactive table.\"\n",
              "              style=\"display:none;\">\n",
              "        \n",
              "  <svg xmlns=\"http://www.w3.org/2000/svg\" height=\"24px\"viewBox=\"0 0 24 24\"\n",
              "       width=\"24px\">\n",
              "    <path d=\"M0 0h24v24H0V0z\" fill=\"none\"/>\n",
              "    <path d=\"M18.56 5.44l.94 2.06.94-2.06 2.06-.94-2.06-.94-.94-2.06-.94 2.06-2.06.94zm-11 1L8.5 8.5l.94-2.06 2.06-.94-2.06-.94L8.5 2.5l-.94 2.06-2.06.94zm10 10l.94 2.06.94-2.06 2.06-.94-2.06-.94-.94-2.06-.94 2.06-2.06.94z\"/><path d=\"M17.41 7.96l-1.37-1.37c-.4-.4-.92-.59-1.43-.59-.52 0-1.04.2-1.43.59L10.3 9.45l-7.72 7.72c-.78.78-.78 2.05 0 2.83L4 21.41c.39.39.9.59 1.41.59.51 0 1.02-.2 1.41-.59l7.78-7.78 2.81-2.81c.8-.78.8-2.07 0-2.86zM5.41 20L4 18.59l7.72-7.72 1.47 1.35L5.41 20z\"/>\n",
              "  </svg>\n",
              "      </button>\n",
              "      \n",
              "  <style>\n",
              "    .colab-df-container {\n",
              "      display:flex;\n",
              "      flex-wrap:wrap;\n",
              "      gap: 12px;\n",
              "    }\n",
              "\n",
              "    .colab-df-convert {\n",
              "      background-color: #E8F0FE;\n",
              "      border: none;\n",
              "      border-radius: 50%;\n",
              "      cursor: pointer;\n",
              "      display: none;\n",
              "      fill: #1967D2;\n",
              "      height: 32px;\n",
              "      padding: 0 0 0 0;\n",
              "      width: 32px;\n",
              "    }\n",
              "\n",
              "    .colab-df-convert:hover {\n",
              "      background-color: #E2EBFA;\n",
              "      box-shadow: 0px 1px 2px rgba(60, 64, 67, 0.3), 0px 1px 3px 1px rgba(60, 64, 67, 0.15);\n",
              "      fill: #174EA6;\n",
              "    }\n",
              "\n",
              "    [theme=dark] .colab-df-convert {\n",
              "      background-color: #3B4455;\n",
              "      fill: #D2E3FC;\n",
              "    }\n",
              "\n",
              "    [theme=dark] .colab-df-convert:hover {\n",
              "      background-color: #434B5C;\n",
              "      box-shadow: 0px 1px 3px 1px rgba(0, 0, 0, 0.15);\n",
              "      filter: drop-shadow(0px 1px 2px rgba(0, 0, 0, 0.3));\n",
              "      fill: #FFFFFF;\n",
              "    }\n",
              "  </style>\n",
              "\n",
              "      <script>\n",
              "        const buttonEl =\n",
              "          document.querySelector('#df-741d059c-de12-49cd-b955-3d696b6fea52 button.colab-df-convert');\n",
              "        buttonEl.style.display =\n",
              "          google.colab.kernel.accessAllowed ? 'block' : 'none';\n",
              "\n",
              "        async function convertToInteractive(key) {\n",
              "          const element = document.querySelector('#df-741d059c-de12-49cd-b955-3d696b6fea52');\n",
              "          const dataTable =\n",
              "            await google.colab.kernel.invokeFunction('convertToInteractive',\n",
              "                                                     [key], {});\n",
              "          if (!dataTable) return;\n",
              "\n",
              "          const docLinkHtml = 'Like what you see? Visit the ' +\n",
              "            '<a target=\"_blank\" href=https://colab.research.google.com/notebooks/data_table.ipynb>data table notebook</a>'\n",
              "            + ' to learn more about interactive tables.';\n",
              "          element.innerHTML = '';\n",
              "          dataTable['output_type'] = 'display_data';\n",
              "          await google.colab.output.renderOutput(dataTable, element);\n",
              "          const docLink = document.createElement('div');\n",
              "          docLink.innerHTML = docLinkHtml;\n",
              "          element.appendChild(docLink);\n",
              "        }\n",
              "      </script>\n",
              "    </div>\n",
              "  </div>\n",
              "  "
            ]
          },
          "metadata": {},
          "execution_count": 40
        }
      ]
    },
    {
      "cell_type": "code",
      "source": [
        "#now we see the no of unique user and item in data \n",
        "data.nunique()"
      ],
      "metadata": {
        "colab": {
          "base_uri": "https://localhost:8080/"
        },
        "id": "n42PKwb3tzHG",
        "outputId": "28ab1f8d-2e50-4c0d-a79a-a21ae6f644eb"
      },
      "execution_count": 41,
      "outputs": [
        {
          "output_type": "execute_result",
          "data": {
            "text/plain": [
              "item_id          9560\n",
              "user_id       1157633\n",
              "rating              5\n",
              "timestamp        6354\n",
              "model_attr          3\n",
              "category           10\n",
              "brand              51\n",
              "year               20\n",
              "user_attr           2\n",
              "split               3\n",
              "month              12\n",
              "dtype: int64"
            ]
          },
          "metadata": {},
          "execution_count": 41
        }
      ]
    },
    {
      "cell_type": "code",
      "source": [
        "#cheaking duplicates_value\n",
        "data.duplicated().sum()"
      ],
      "metadata": {
        "colab": {
          "base_uri": "https://localhost:8080/"
        },
        "id": "HNiUC0LeuUwP",
        "outputId": "47fa9dba-5328-4eba-f635-37fed7ab060e"
      },
      "execution_count": 42,
      "outputs": [
        {
          "output_type": "execute_result",
          "data": {
            "text/plain": [
              "0"
            ]
          },
          "metadata": {},
          "execution_count": 42
        }
      ]
    },
    {
      "cell_type": "code",
      "source": [
        "#cheaking missing value\n",
        "data.isnull().sum()"
      ],
      "metadata": {
        "colab": {
          "base_uri": "https://localhost:8080/"
        },
        "id": "jg3JKGMHuf6k",
        "outputId": "e0eb6d1e-aa04-432f-c68c-c5f4f2faa05c"
      },
      "execution_count": 43,
      "outputs": [
        {
          "output_type": "execute_result",
          "data": {
            "text/plain": [
              "item_id             0\n",
              "user_id             0\n",
              "rating              0\n",
              "timestamp           0\n",
              "model_attr          0\n",
              "category            0\n",
              "brand               0\n",
              "year                0\n",
              "user_attr     1118830\n",
              "split               0\n",
              "month               0\n",
              "dtype: int64"
            ]
          },
          "metadata": {},
          "execution_count": 43
        }
      ]
    },
    {
      "cell_type": "code",
      "source": [
        "##as we see there is one columne user_attr  which is not important so we drop this column \n",
        "data.drop(['user_attr'],inplace=True,axis=1)"
      ],
      "metadata": {
        "id": "5UxmWyXhupbw"
      },
      "execution_count": 44,
      "outputs": []
    },
    {
      "cell_type": "code",
      "source": [
        "## let us see the distributions of rating \n",
        "data.rating.value_counts()"
      ],
      "metadata": {
        "colab": {
          "base_uri": "https://localhost:8080/"
        },
        "id": "3aexv8dbva6t",
        "outputId": "be3fcd93-f52f-4cf8-9b49-da28592fd949"
      },
      "execution_count": 46,
      "outputs": [
        {
          "output_type": "execute_result",
          "data": {
            "text/plain": [
              "5.0    755755\n",
              "4.0    214166\n",
              "1.0    143755\n",
              "3.0    100630\n",
              "2.0     78648\n",
              "Name: rating, dtype: int64"
            ]
          },
          "metadata": {},
          "execution_count": 46
        }
      ]
    },
    {
      "cell_type": "markdown",
      "source": [
        "here we see that most of the rating is 5"
      ],
      "metadata": {
        "id": "N0dWojPwv4a6"
      }
    },
    {
      "cell_type": "markdown",
      "source": [
        "# Q : what is  best year of sale ?"
      ],
      "metadata": {
        "id": "hvcmSqqc7qNP"
      }
    },
    {
      "cell_type": "code",
      "source": [
        "#here we cheak the  best year of sale \n",
        "data['feat_year']=pd.DatetimeIndex(data['timestamp']).year\n",
        "\n",
        "yearly_perfomance=data['feat_year'].value_counts()\n",
        "\n",
        "yearly_perfomance = pd.DataFrame(yearly_perfomance.reset_index().rename(columns={'index': 'year'}))\n",
        "\n",
        "##plot _useing barplot\n",
        "plt.figure(figsize=(15,7))\n",
        "\n",
        "sns.barplot(data=yearly_perfomance, x=\"year\" ,y=\"feat_year\")"
      ],
      "metadata": {
        "colab": {
          "base_uri": "https://localhost:8080/",
          "height": 459
        },
        "id": "In4IWjRIvzy3",
        "outputId": "8eefa3c4-2a56-4c00-f811-316e44c19f73"
      },
      "execution_count": 48,
      "outputs": [
        {
          "output_type": "execute_result",
          "data": {
            "text/plain": [
              "<matplotlib.axes._subplots.AxesSubplot at 0x7f8c053154c0>"
            ]
          },
          "metadata": {},
          "execution_count": 48
        },
        {
          "output_type": "display_data",
          "data": {
            "text/plain": [
              "<Figure size 1080x504 with 1 Axes>"
            ],
            "image/png": "[encoded data removed]"
          },
          "metadata": {
            "needs_background": "light"
          }
        }
      ]
    },
    {
      "cell_type": "markdown",
      "source": [
        "here wee see that 2015 has maximum numbr of sale  now we  find the month that  maximum number of sale"
      ],
      "metadata": {
        "id": "HAsR4IEw1mNP"
      }
    },
    {
      "cell_type": "markdown",
      "source": [
        "## Q : what is best Month of sale ?"
      ],
      "metadata": {
        "id": "5W1e_Fl173dg"
      }
    },
    {
      "cell_type": "code",
      "source": [
        "data['feat_month']=pd.DatetimeIndex(data['timestamp']).month\n",
        "\n",
        "\n",
        "monthly_perfomance =data['feat_month'].value_counts()\n",
        "\n",
        "monthly_perfomance=pd.DataFrame(monthly_perfomance.reset_index().rename(columns={'index':'month'}))\n",
        "\n",
        "##plot _useing barplot\n",
        "plt.figure(figsize=(15,7))\n",
        "\n",
        "sns.barplot(data=monthly_perfomance, x=\"month\" ,y=\"feat_month\")\n",
        "\n"
      ],
      "metadata": {
        "colab": {
          "base_uri": "https://localhost:8080/",
          "height": 459
        },
        "id": "V4Vco2-cw3lB",
        "outputId": "692aa2fb-5323-42fd-d7fa-7e52da1f16c8"
      },
      "execution_count": 49,
      "outputs": [
        {
          "output_type": "execute_result",
          "data": {
            "text/plain": [
              "<matplotlib.axes._subplots.AxesSubplot at 0x7f8c05347850>"
            ]
          },
          "metadata": {},
          "execution_count": 49
        },
        {
          "output_type": "display_data",
          "data": {
            "text/plain": [
              "<Figure size 1080x504 with 1 Axes>"
            ],
            "image/png": "[encoded data removed]"
          },
          "metadata": {
            "needs_background": "light"
          }
        }
      ]
    },
    {
      "cell_type": "markdown",
      "source": [
        "here we sew that january was the best month for sale "
      ],
      "metadata": {
        "id": "9HOFlqzSBgq3"
      }
    },
    {
      "cell_type": "markdown",
      "source": [
        "## Q : what is most given rating?"
      ],
      "metadata": {
        "id": "iA_srs_f7-AS"
      }
    },
    {
      "cell_type": "code",
      "source": [
        "##find the idstribution of rating\n",
        "sns.countplot(x='rating',data=data)"
      ],
      "metadata": {
        "colab": {
          "base_uri": "https://localhost:8080/",
          "height": 296
        },
        "id": "-8lzRDlM42VC",
        "outputId": "844d3167-1ecf-48c3-dada-4584963f31dc"
      },
      "execution_count": 50,
      "outputs": [
        {
          "output_type": "execute_result",
          "data": {
            "text/plain": [
              "<matplotlib.axes._subplots.AxesSubplot at 0x7f8bf74e8ee0>"
            ]
          },
          "metadata": {},
          "execution_count": 50
        },
        {
          "output_type": "display_data",
          "data": {
            "text/plain": [
              "<Figure size 432x288 with 1 Axes>"
            ],
            "image/png": "[encoded data removed]"
          },
          "metadata": {
            "needs_background": "light"
          }
        }
      ]
    },
    {
      "cell_type": "markdown",
      "source": [
        "#Q :which  brand have high sales ?"
      ],
      "metadata": {
        "id": "jfuoFu33Mm8I"
      }
    },
    {
      "cell_type": "code",
      "source": [
        "Brand_=pd.DataFrame(data['brand'].value_counts().reset_index().rename(columns={'index':'brand_name','brand':'count'}),)\n",
        "Brand=Brand_.drop([0, 1])\n",
        "#ploting the Graph\n",
        "Brand.head(10).plot(kind='bar',color='green',x='brand_name',legend=True)"
      ],
      "metadata": {
        "colab": {
          "base_uri": "https://localhost:8080/",
          "height": 343
        },
        "id": "_v9TmLpkE7Bz",
        "outputId": "fb6163ac-09c3-4299-c28b-66085c9d1f44"
      },
      "execution_count": 51,
      "outputs": [
        {
          "output_type": "execute_result",
          "data": {
            "text/plain": [
              "<matplotlib.axes._subplots.AxesSubplot at 0x7f8bf74befa0>"
            ]
          },
          "metadata": {},
          "execution_count": 51
        },
        {
          "output_type": "display_data",
          "data": {
            "text/plain": [
              "<Figure size 432x288 with 1 Axes>"
            ],
            "image/png": "[encoded data removed]"
          },
          "metadata": {
            "needs_background": "light"
          }
        }
      ]
    },
    {
      "cell_type": "markdown",
      "source": [
        "## Q: which brand have least sale?"
      ],
      "metadata": {
        "id": "bo4IBCv7M9UG"
      }
    },
    {
      "cell_type": "code",
      "source": [
        "Brand.tail(10).plot(kind='bar',color='green',x='brand_name',legend=True)"
      ],
      "metadata": {
        "colab": {
          "base_uri": "https://localhost:8080/",
          "height": 358
        },
        "id": "sbJkn8VvJqLq",
        "outputId": "d15bbdbe-d031-4d4f-a9e0-2d01f3994ec2"
      },
      "execution_count": 52,
      "outputs": [
        {
          "output_type": "execute_result",
          "data": {
            "text/plain": [
              "<matplotlib.axes._subplots.AxesSubplot at 0x7f8bf743b850>"
            ]
          },
          "metadata": {},
          "execution_count": 52
        },
        {
          "output_type": "display_data",
          "data": {
            "text/plain": [
              "<Figure size 432x288 with 1 Axes>"
            ],
            "image/png": "[encoded data removed]"
          },
          "metadata": {
            "needs_background": "light"
          }
        }
      ]
    },
    {
      "cell_type": "markdown",
      "source": [
        "## Q  :   Find the brands with the most sales in 2015"
      ],
      "metadata": {
        "id": "-As4jPvE0lMn"
      }
    },
    {
      "cell_type": "code",
      "source": [
        "#plot useing seborn \n",
        "sns.countplot(x='brand', data=data[data['year'] == 2016], order=data['brand'].value_counts().iloc[1:10].index)"
      ],
      "metadata": {
        "colab": {
          "base_uri": "https://localhost:8080/",
          "height": 296
        },
        "id": "7LNrgNp53YdS",
        "outputId": "e6edfad1-ba50-4a75-db99-351c5301b9a7"
      },
      "execution_count": 81,
      "outputs": [
        {
          "output_type": "execute_result",
          "data": {
            "text/plain": [
              "<matplotlib.axes._subplots.AxesSubplot at 0x7f8bf50ee520>"
            ]
          },
          "metadata": {},
          "execution_count": 81
        },
        {
          "output_type": "display_data",
          "data": {
            "text/plain": [
              "<Figure size 432x288 with 1 Axes>"
            ],
            "image/png": "[encoded data removed]"
          },
          "metadata": {
            "needs_background": "light"
          }
        }
      ]
    },
    {
      "cell_type": "markdown",
      "source": [
        "as we see bose has maximum no of sale in 2015"
      ],
      "metadata": {
        "id": "qTLuA2x56Nrh"
      }
    },
    {
      "cell_type": "markdown",
      "source": [
        "\n",
        "#Q :  which category with the least sales was Security & Surveillance while the most sales were Headphones.\n"
      ],
      "metadata": {
        "id": "dpZE6Wgv6pM_"
      }
    },
    {
      "cell_type": "code",
      "source": [
        "##understand with piechart\n",
        "plt.figure(figsize=(10,10)) \n",
        "sns.set_style('white')\n",
        "data.groupby('category')['rating'].count().sort_values(ascending=False).head(10).plot(kind='pie')"
      ],
      "metadata": {
        "colab": {
          "base_uri": "https://localhost:8080/",
          "height": 592
        },
        "id": "UIX4_hRO6NWH",
        "outputId": "d9d79890-f3af-45f7-9972-1844089a8c72"
      },
      "execution_count": 85,
      "outputs": [
        {
          "output_type": "execute_result",
          "data": {
            "text/plain": [
              "<matplotlib.axes._subplots.AxesSubplot at 0x7f8bf4d266a0>"
            ]
          },
          "metadata": {},
          "execution_count": 85
        },
        {
          "output_type": "display_data",
          "data": {
            "text/plain": [
              "<Figure size 720x720 with 1 Axes>"
            ],
            "image/png": "[encoded data removed]"
          },
          "metadata": {}
        }
      ]
    },
    {
      "cell_type": "markdown",
      "source": [
        "# conclusion of our analysis\n",
        "\n",
        "# We can see that the year 2015 had the best sales.\n",
        "\n",
        "# The month of January had the best sales.\n",
        "\n",
        "# We can see that the brands Bose and Logitech sold the most\n",
        "\n",
        "# We can see that the category of Headphones sold the most.\n",
        "\n",
        "# We can see that the brand name of koolertron sold the least followed closely with DURAGADGET.\n",
        "\n",
        "# We can see that the category of Security and Surveillance sold the least."
      ],
      "metadata": {
        "id": "Ba3AlVKp8ags"
      }
    },
    {
      "cell_type": "code",
      "source": [],
      "metadata": {
        "id": "Hn2XGGCT7N2d"
      },
      "execution_count": null,
      "outputs": []
    }
  ]
}